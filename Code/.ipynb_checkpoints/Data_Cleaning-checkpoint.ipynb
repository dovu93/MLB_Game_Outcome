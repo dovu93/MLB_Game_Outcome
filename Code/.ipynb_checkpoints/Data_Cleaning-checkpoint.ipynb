{
 "cells": [
  {
   "cell_type": "code",
   "execution_count": 44,
   "metadata": {},
   "outputs": [],
   "source": [
    "%run cleaning_data_functions.py"
   ]
  },
  {
   "cell_type": "markdown",
   "metadata": {},
   "source": [
    "# Home/Away Data"
   ]
  },
  {
   "cell_type": "code",
   "execution_count": 45,
   "metadata": {},
   "outputs": [],
   "source": [
    "df_home_away_2019 = pd.read_csv(Path(\"../Data/home_away_data/Astros/2019_home_away.txt\"))\n",
    "df_home_away_2018 = pd.read_csv(Path(\"../Data/home_away_data/Astros/2018_home_away.txt\"))\n",
    "df_home_away_2017 = pd.read_csv(Path(\"../Data/home_away_data/Astros/2017_home_away.txt\"))\n",
    "df_home_away_2016 = pd.read_csv(Path(\"../Data/home_away_data/Astros/2016_home_away.txt\"))\n",
    "df_home_away_2015 = pd.read_csv(Path(\"../Data/home_away_data/Astros/2015_home_away.txt\"))\n",
    "df_home_away_2014 = pd.read_csv(Path(\"../Data/home_away_data/Astros/2014_home_away.txt\"))\n",
    "df_home_away_2013 = pd.read_csv(Path(\"../Data/home_away_data/Astros/2013_home_away.txt\"))"
   ]
  },
  {
   "cell_type": "markdown",
   "metadata": {},
   "source": [
    "# Pitching Data"
   ]
  },
  {
   "cell_type": "code",
   "execution_count": 27,
   "metadata": {},
   "outputs": [],
   "source": [
    "# df_pitch_2019 = pd.read_csv(Path(\"../Data/pitching_data/2019_pitching.csv\"))\n",
    "# df_pitch_2018 = pd.read_csv(Path(\"../Data/pitching_data/2018_pitching.csv\"))\n",
    "# df_pitch_2017 = pd.read_csv(Path(\"../Data/pitching_data/2017_pitching.csv\"))\n",
    "# df_pitch_2016 = pd.read_csv(Path(\"../Data/pitching_data/2016_pitching.csv\"))\n",
    "# df_pitch_2015 = pd.read_csv(Path(\"../Data/pitching_data/2015_pitching.csv\"))\n",
    "# df_pitch_2014 = pd.read_csv(Path(\"../Data/pitching_data/2014_pitching.csv\"))\n",
    "# df_pitch_2013 = pd.read_csv(Path(\"../Data/pitching_data/2013_pitching.csv\"))"
   ]
  },
  {
   "cell_type": "code",
   "execution_count": 46,
   "metadata": {},
   "outputs": [],
   "source": [
    "df_pitch_2019 = pd.read_csv(Path(\"../Data/pitching_data/pitch_2019.csv\"))\n",
    "df_pitch_2018 = pd.read_csv(Path(\"../Data/pitching_data/pitch_2018.csv\"))\n",
    "df_pitch_2017 = pd.read_csv(Path(\"../Data/pitching_data/pitch_2017.csv\"))\n",
    "df_pitch_2016 = pd.read_csv(Path(\"../Data/pitching_data/pitch_2016.csv\"))\n",
    "df_pitch_2015 = pd.read_csv(Path(\"../Data/pitching_data/pitch_2015.csv\"))\n",
    "df_pitch_2014 = pd.read_csv(Path(\"../Data/pitching_data/pitch_2014.csv\"))\n",
    "df_pitch_2013 = pd.read_csv(Path(\"../Data/pitching_data/pitch_2013.csv\"))"
   ]
  },
  {
   "cell_type": "markdown",
   "metadata": {},
   "source": [
    "# Batting Data"
   ]
  },
  {
   "cell_type": "code",
   "execution_count": 47,
   "metadata": {},
   "outputs": [],
   "source": [
    "df_bat_2019 = pd.read_csv(Path(\"../Data/batting_data/batting_2019.csv\"))\n",
    "df_bat_2018 = pd.read_csv(Path(\"../Data/batting_data/batting_2018.csv\"))\n",
    "df_bat_2017 = pd.read_csv(Path(\"../Data/batting_data/batting_2017.csv\"))\n",
    "df_bat_2016 = pd.read_csv(Path(\"../Data/batting_data/batting_2016.csv\"))\n",
    "df_bat_2015 = pd.read_csv(Path(\"../Data/batting_data/batting_2015.csv\"))\n",
    "df_bat_2014 = pd.read_csv(Path(\"../Data/batting_data/batting_2014.csv\"))\n",
    "df_bat_2013 = pd.read_csv(Path(\"../Data/batting_data/batting_2013.csv\"))"
   ]
  },
  {
   "cell_type": "markdown",
   "metadata": {},
   "source": [
    "# Misc Data"
   ]
  },
  {
   "cell_type": "code",
   "execution_count": 48,
   "metadata": {},
   "outputs": [],
   "source": [
    "team_acry = pd.read_csv(Path(\"../Data/misc_data/team_acry.csv\"))\n",
    "\n",
    "team_rooster = pd.read_csv(Path(\"../Data/misc_data/updated_team_rooster.csv\"))\n",
    "team_rooster.set_index(\"Player Name\", inplace = True)"
   ]
  },
  {
   "cell_type": "markdown",
   "metadata": {},
   "source": [
    "# Schedule Data"
   ]
  },
  {
   "cell_type": "code",
   "execution_count": 49,
   "metadata": {},
   "outputs": [],
   "source": [
    "df_schedule_2019 = pd.read_csv(Path(\"../Data/schedule_data/Astros/2019_astros_sced.csv\"))\n",
    "df_schedule_2018 = pd.read_csv(Path(\"../Data/schedule_data/Astros/2018_astros_sced.csv\"))\n",
    "df_schedule_2017 = pd.read_csv(Path(\"../Data/schedule_data/Astros/2017_astros_sced.csv\"))\n",
    "df_schedule_2016 = pd.read_csv(Path(\"../Data/schedule_data/Astros/2016_astros_sced.csv\"))\n",
    "df_schedule_2015 = pd.read_csv(Path(\"../Data/schedule_data/Astros/2015_astros_sced.csv\"))\n",
    "df_schedule_2014 = pd.read_csv(Path(\"../Data/schedule_data/Astros/2014_astros_sced.csv\"))\n",
    "df_schedule_2013 = pd.read_csv(Path(\"../Data/schedule_data/Astros/2013_astros_sced.csv\"))"
   ]
  },
  {
   "cell_type": "markdown",
   "metadata": {},
   "source": [
    "# Combining Dataframes"
   ]
  },
  {
   "cell_type": "code",
   "execution_count": 50,
   "metadata": {},
   "outputs": [],
   "source": [
    "df_2019 = combine_year_df(\n",
    "    clean_schedule_data(df_schedule_2019,df_home_away_2019), \n",
    "    clean_batting_data(df_bat_2019), \n",
    "    clean_pitching_data(df_pitch_2019),\n",
    "    \"HOU\"\n",
    ")"
   ]
  },
  {
   "cell_type": "code",
   "execution_count": 51,
   "metadata": {},
   "outputs": [],
   "source": [
    "df_2018 = combine_year_df(\n",
    "    clean_schedule_data(df_schedule_2018,df_home_away_2018), \n",
    "    clean_batting_data(df_bat_2018), \n",
    "    clean_pitching_data(df_pitch_2018),\n",
    "    \"HOU\"\n",
    ")"
   ]
  },
  {
   "cell_type": "code",
   "execution_count": 52,
   "metadata": {},
   "outputs": [],
   "source": [
    "df_2017 = combine_year_df(clean_schedule_data(\n",
    "    df_schedule_2017,df_home_away_2017), \n",
    "    clean_batting_data(df_bat_2017), \n",
    "    clean_pitching_data(df_pitch_2017),\n",
    "    \"HOU\"\n",
    ")"
   ]
  },
  {
   "cell_type": "code",
   "execution_count": 53,
   "metadata": {},
   "outputs": [],
   "source": [
    "df_2016 = combine_year_df(clean_schedule_data(\n",
    "    df_schedule_2016,df_home_away_2016), \n",
    "    clean_batting_data(df_bat_2016), \n",
    "    clean_pitching_data(df_pitch_2016),\n",
    "    \"HOU\"\n",
    ")"
   ]
  },
  {
   "cell_type": "code",
   "execution_count": 54,
   "metadata": {},
   "outputs": [],
   "source": [
    "df_2015 = combine_year_df(clean_schedule_data(\n",
    "    df_schedule_2015,df_home_away_2015), \n",
    "    clean_batting_data(df_bat_2015), \n",
    "    clean_pitching_data(df_pitch_2015),    \n",
    "    \"HOU\"\n",
    ")"
   ]
  },
  {
   "cell_type": "code",
   "execution_count": 55,
   "metadata": {},
   "outputs": [],
   "source": [
    "df_2014 = combine_year_df(clean_schedule_data(\n",
    "    df_schedule_2014,df_home_away_2014), \n",
    "    clean_batting_data(df_bat_2014), \n",
    "    clean_pitching_data(df_pitch_2014),\n",
    "    \"HOU\"\n",
    ")"
   ]
  },
  {
   "cell_type": "code",
   "execution_count": 56,
   "metadata": {},
   "outputs": [],
   "source": [
    "df_2013 = combine_year_df(clean_schedule_data(\n",
    "    df_schedule_2013,df_home_away_2013), \n",
    "    clean_batting_data(df_bat_2013), \n",
    "    clean_pitching_data(df_pitch_2013),\n",
    "    \"HOU\"\n",
    ")"
   ]
  },
  {
   "cell_type": "markdown",
   "metadata": {},
   "source": [
    "# Saving Dataframes"
   ]
  },
  {
   "cell_type": "code",
   "execution_count": 57,
   "metadata": {},
   "outputs": [],
   "source": [
    "frames = [df_2019,\n",
    "          df_2018,\n",
    "          df_2017, \n",
    "          df_2016,\n",
    "          df_2015, \n",
    "          df_2014, \n",
    "          df_2013]\n",
    "result = pd.concat(frames)\n",
    "result.to_csv(Path(\"../Data/complete_dataframes/2013_2019_Astros_full.csv\"), index = False)"
   ]
  },
  {
   "cell_type": "code",
   "execution_count": 58,
   "metadata": {},
   "outputs": [],
   "source": [
    "frames = [df_2019.iloc[50:125],\n",
    "          df_2018.iloc[50:125],\n",
    "          df_2017.iloc[50:125], \n",
    "          df_2016.iloc[50:125],\n",
    "          df_2015.iloc[50:125], \n",
    "          df_2014.iloc[50:125], \n",
    "          df_2013.iloc[50:125]]\n",
    "result = pd.concat(frames)\n",
    "result.to_csv(Path(\"../Data/complete_dataframes/2013_2019_Astros_50_125.csv\"), index = False)"
   ]
  },
  {
   "cell_type": "code",
   "execution_count": 59,
   "metadata": {},
   "outputs": [],
   "source": [
    "frames = [df_2019.iloc[:80],\n",
    "          df_2018.iloc[:80],\n",
    "          df_2017.iloc[:80], \n",
    "          df_2016.iloc[:80],\n",
    "          df_2015.iloc[:80], \n",
    "          df_2014.iloc[:80], \n",
    "          df_2013.iloc[:80]]\n",
    "result = pd.concat(frames)\n",
    "result.to_csv(Path(\"../Data/complete_dataframes/2013_2019_Astros_first_80.csv\"), index = False)"
   ]
  },
  {
   "cell_type": "code",
   "execution_count": 60,
   "metadata": {},
   "outputs": [],
   "source": [
    "frames = [df_2019.iloc[75:],\n",
    "          df_2018.iloc[75:],\n",
    "          df_2017.iloc[75:], \n",
    "          df_2016.iloc[75:],\n",
    "          df_2015.iloc[75:], \n",
    "          df_2014.iloc[75:], \n",
    "          df_2013.iloc[75:]]\n",
    "result = pd.concat(frames)\n",
    "result.to_csv(Path(\"../Data/complete_dataframes/2013_2019_Astros_75_onwards.csv\"), index = False)"
   ]
  },
  {
   "cell_type": "code",
   "execution_count": 61,
   "metadata": {},
   "outputs": [],
   "source": [
    "frames = [df_2019.iloc[75:130],\n",
    "          df_2018.iloc[75:130],\n",
    "          df_2017.iloc[75:130], \n",
    "          df_2016.iloc[75:130],\n",
    "          df_2015.iloc[75:130], \n",
    "          df_2014.iloc[75:130], \n",
    "          df_2013.iloc[75:130]]\n",
    "result = pd.concat(frames)\n",
    "result.to_csv(Path(\"../Data/complete_dataframes/2013_2019_Astros_75_130.csv\"), index = False)"
   ]
  },
  {
   "cell_type": "code",
   "execution_count": null,
   "metadata": {},
   "outputs": [],
   "source": []
  }
 ],
 "metadata": {
  "kernelspec": {
   "display_name": "Python 3",
   "language": "python",
   "name": "python3"
  },
  "language_info": {
   "codemirror_mode": {
    "name": "ipython",
    "version": 3
   },
   "file_extension": ".py",
   "mimetype": "text/x-python",
   "name": "python",
   "nbconvert_exporter": "python",
   "pygments_lexer": "ipython3",
   "version": "3.7.7"
  }
 },
 "nbformat": 4,
 "nbformat_minor": 4
}
